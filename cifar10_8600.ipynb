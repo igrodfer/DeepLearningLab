{
  "nbformat": 4,
  "nbformat_minor": 0,
  "metadata": {
    "colab": {
      "provenance": [],
      "authorship_tag": "ABX9TyMaYlAsrwulJLvqaDDPNRng",
      "include_colab_link": true
    },
    "kernelspec": {
      "name": "python3",
      "display_name": "Python 3"
    },
    "language_info": {
      "name": "python"
    },
    "accelerator": "GPU",
    "gpuClass": "standard"
  },
  "cells": [
    {
      "cell_type": "markdown",
      "metadata": {
        "id": "view-in-github",
        "colab_type": "text"
      },
      "source": [
        "<a href=\"https://colab.research.google.com/github/igrodfer/DeepLearningLab/blob/main/cifar10_8600.ipynb\" target=\"_parent\"><img src=\"https://colab.research.google.com/assets/colab-badge.svg\" alt=\"Open In Colab\"/></a>"
      ]
    },
    {
      "cell_type": "code",
      "execution_count": 18,
      "metadata": {
        "colab": {
          "base_uri": "https://localhost:8080/"
        },
        "id": "LL8RpCWynTVK",
        "outputId": "a8e07967-c955-46d1-c450-ac9b65d9ebbb"
      },
      "outputs": [
        {
          "output_type": "stream",
          "name": "stdout",
          "text": [
            "The autoreload extension is already loaded. To reload it, use:\n",
            "  %reload_ext autoreload\n"
          ]
        }
      ],
      "source": [
        "from __future__ import print_function\n",
        "%load_ext autoreload\n",
        "%autoreload 2\n",
        "import keras\n",
        "from keras.datasets import cifar10\n",
        "from keras.models import Sequential\n",
        "from keras.layers import Dense, Dropout, Activation, Flatten\n",
        "from keras.layers import Conv2D, MaxPooling2D\n",
        "from keras.layers import BatchNormalization as BN\n",
        "from keras.layers import GaussianNoise as GN\n",
        "from tensorflow.keras.optimizers import SGD, Adam\n",
        "from keras.utils import np_utils\n",
        "\n",
        "from keras.callbacks import LearningRateScheduler as LRS\n",
        "from keras.preprocessing.image import ImageDataGenerator"
      ]
    },
    {
      "cell_type": "code",
      "source": [
        "batch_size = 100\n",
        "num_classes = 10\n",
        "epochs = 75"
      ],
      "metadata": {
        "id": "Oq2MYhwDoGJD"
      },
      "execution_count": 2,
      "outputs": []
    },
    {
      "cell_type": "code",
      "source": [
        "(x_train, y_train), (x_test, y_test) = cifar10.load_data()\n",
        "\n",
        "x_train = x_train.astype('float32')\n",
        "x_test = x_test.astype('float32')\n",
        "\n",
        "x_train /= 255\n",
        "x_test /= 255\n",
        "\n",
        "print(x_train.shape)\n",
        "print(x_test.shape)\n",
        "\n",
        "y_train = keras.utils.np_utils.to_categorical(y_train, num_classes)\n",
        "y_test = keras.utils.np_utils.to_categorical(y_test, num_classes)"
      ],
      "metadata": {
        "colab": {
          "base_uri": "https://localhost:8080/"
        },
        "id": "2wjnofxzoJIr",
        "outputId": "c7ef18bd-93db-4b00-d161-8ebaaa3374aa"
      },
      "execution_count": 3,
      "outputs": [
        {
          "output_type": "stream",
          "name": "stdout",
          "text": [
            "Downloading data from https://www.cs.toronto.edu/~kriz/cifar-10-python.tar.gz\n",
            "170498071/170498071 [==============================] - 13s 0us/step\n",
            "(50000, 32, 32, 3)\n",
            "(10000, 32, 32, 3)\n"
          ]
        }
      ]
    },
    {
      "cell_type": "code",
      "source": [
        "## DEF A BLOCK CONV + BN + GN + MAXPOOL\n",
        "def CBGN(model,filters,ishape=0):\n",
        "  if (ishape!=0):\n",
        "    model.add(Conv2D(filters, (3, 3), padding='same',\n",
        "                 input_shape=ishape))\n",
        "  else:\n",
        "    model.add(Conv2D(filters, (3, 3), padding='same'))\n",
        "  \n",
        "  model.add(BN())\n",
        "  model.add(GN(0.3))\n",
        "  model.add(Activation('relu'))\n",
        "  model.add(MaxPooling2D(pool_size=(2, 2)))\n",
        "  \n",
        "  \n",
        "  return model"
      ],
      "metadata": {
        "id": "ha3je-uloL3h"
      },
      "execution_count": 4,
      "outputs": []
    },
    {
      "cell_type": "code",
      "source": [
        "datagen = ImageDataGenerator(\n",
        "    width_shift_range=0.2,\n",
        "    height_shift_range=0.2,\n",
        "    horizontal_flip=True,\n",
        "    rotation_range=20,\n",
        "    shear_range=0.2,\n",
        "    zoom_range=0.2)\n"
      ],
      "metadata": {
        "id": "C7kOugbErnAI"
      },
      "execution_count": 19,
      "outputs": []
    },
    {
      "cell_type": "code",
      "source": [
        "## DEF NN TOPOLOGY  \n",
        "model = Sequential()\n",
        "\n",
        "model=CBGN(model,32,x_train.shape[1:])\n",
        "model=CBGN(model,64)\n",
        "model=CBGN(model,128)\n",
        "model=CBGN(model,256)\n",
        "model=CBGN(model,512)\n",
        "\n",
        "model.add(Flatten())\n",
        "model.add(Dense(512))\n",
        "model.add(Activation('relu'))\n",
        "\n",
        "model.add(Dense(num_classes))\n",
        "model.add(Activation('softmax'))"
      ],
      "metadata": {
        "id": "P3qhppDXoPtb"
      },
      "execution_count": 20,
      "outputs": []
    },
    {
      "cell_type": "code",
      "source": [
        "model.summary()"
      ],
      "metadata": {
        "id": "e_dXrEe3oQ6R"
      },
      "execution_count": null,
      "outputs": []
    },
    {
      "cell_type": "code",
      "source": [
        "## OPTIM AND COMPILE\n",
        "opt = Adam()\n",
        "\n",
        "model.compile(loss='categorical_crossentropy',\n",
        "              optimizer=opt,\n",
        "              metrics=['accuracy'])"
      ],
      "metadata": {
        "id": "XcSgQPZFoT-W"
      },
      "execution_count": 21,
      "outputs": []
    },
    {
      "cell_type": "code",
      "source": [],
      "metadata": {
        "id": "3IleqFxlEwVs"
      },
      "execution_count": null,
      "outputs": []
    },
    {
      "cell_type": "code",
      "source": [
        "history=model.fit(datagen.flow(x_train, y_train,batch_size=batch_size),\n",
        "                            steps_per_epoch=len(x_train) / batch_size, \n",
        "                            epochs=epochs,\n",
        "                            validation_data=(x_test, y_test),\n",
        "                            verbose=1)\n",
        "\n",
        "## TEST\n",
        "scores = model.evaluate(x_test, y_test, verbose=1)\n",
        "print('Test loss:', scores[0])\n",
        "print('Test accuracy:', scores[1])"
      ],
      "metadata": {
        "colab": {
          "base_uri": "https://localhost:8080/"
        },
        "id": "ZfDZSRL-odRs",
        "outputId": "fec374a3-d16e-4eca-eca0-f2acbcb3a268"
      },
      "execution_count": 22,
      "outputs": [
        {
          "output_type": "stream",
          "name": "stdout",
          "text": [
            "Epoch 1/75\n",
            "500/500 [==============================] - 33s 64ms/step - loss: 1.6333 - accuracy: 0.4075 - val_loss: 1.5602 - val_accuracy: 0.4443\n",
            "Epoch 2/75\n",
            "500/500 [==============================] - 31s 61ms/step - loss: 1.3163 - accuracy: 0.5263 - val_loss: 1.3813 - val_accuracy: 0.5254\n",
            "Epoch 3/75\n",
            "500/500 [==============================] - 31s 61ms/step - loss: 1.1555 - accuracy: 0.5860 - val_loss: 1.6950 - val_accuracy: 0.5160\n",
            "Epoch 4/75\n",
            "500/500 [==============================] - 30s 60ms/step - loss: 1.0659 - accuracy: 0.6225 - val_loss: 1.0804 - val_accuracy: 0.6312\n",
            "Epoch 5/75\n",
            "500/500 [==============================] - 31s 62ms/step - loss: 0.9857 - accuracy: 0.6529 - val_loss: 1.0378 - val_accuracy: 0.6548\n",
            "Epoch 6/75\n",
            "500/500 [==============================] - 30s 61ms/step - loss: 0.9370 - accuracy: 0.6695 - val_loss: 0.9258 - val_accuracy: 0.6833\n",
            "Epoch 7/75\n",
            "500/500 [==============================] - 31s 61ms/step - loss: 0.8952 - accuracy: 0.6880 - val_loss: 1.1736 - val_accuracy: 0.6310\n",
            "Epoch 8/75\n",
            "500/500 [==============================] - 31s 63ms/step - loss: 0.8573 - accuracy: 0.6997 - val_loss: 0.8221 - val_accuracy: 0.7277\n",
            "Epoch 9/75\n",
            "500/500 [==============================] - 31s 61ms/step - loss: 0.8294 - accuracy: 0.7113 - val_loss: 1.1990 - val_accuracy: 0.6307\n",
            "Epoch 10/75\n",
            "500/500 [==============================] - 31s 61ms/step - loss: 0.8122 - accuracy: 0.7144 - val_loss: 0.9760 - val_accuracy: 0.6739\n",
            "Epoch 11/75\n",
            "500/500 [==============================] - 30s 60ms/step - loss: 0.7793 - accuracy: 0.7274 - val_loss: 0.7412 - val_accuracy: 0.7565\n",
            "Epoch 12/75\n",
            "500/500 [==============================] - 31s 62ms/step - loss: 0.7617 - accuracy: 0.7345 - val_loss: 1.0087 - val_accuracy: 0.6841\n",
            "Epoch 13/75\n",
            "500/500 [==============================] - 30s 61ms/step - loss: 0.7514 - accuracy: 0.7389 - val_loss: 0.8520 - val_accuracy: 0.7275\n",
            "Epoch 14/75\n",
            "500/500 [==============================] - 30s 60ms/step - loss: 0.7281 - accuracy: 0.7456 - val_loss: 0.8730 - val_accuracy: 0.7062\n",
            "Epoch 15/75\n",
            "500/500 [==============================] - 30s 61ms/step - loss: 0.7139 - accuracy: 0.7490 - val_loss: 0.6368 - val_accuracy: 0.7835\n",
            "Epoch 16/75\n",
            "500/500 [==============================] - 32s 64ms/step - loss: 0.6932 - accuracy: 0.7574 - val_loss: 0.7363 - val_accuracy: 0.7581\n",
            "Epoch 17/75\n",
            "500/500 [==============================] - 30s 60ms/step - loss: 0.6794 - accuracy: 0.7617 - val_loss: 0.8141 - val_accuracy: 0.7400\n",
            "Epoch 18/75\n",
            "500/500 [==============================] - 31s 61ms/step - loss: 0.6641 - accuracy: 0.7692 - val_loss: 0.6801 - val_accuracy: 0.7765\n",
            "Epoch 19/75\n",
            "500/500 [==============================] - 31s 62ms/step - loss: 0.6578 - accuracy: 0.7702 - val_loss: 0.7025 - val_accuracy: 0.7670\n",
            "Epoch 20/75\n",
            "500/500 [==============================] - 31s 61ms/step - loss: 0.6398 - accuracy: 0.7768 - val_loss: 0.8355 - val_accuracy: 0.7225\n",
            "Epoch 21/75\n",
            "500/500 [==============================] - 31s 61ms/step - loss: 0.6336 - accuracy: 0.7789 - val_loss: 0.8280 - val_accuracy: 0.7493\n",
            "Epoch 22/75\n",
            "500/500 [==============================] - 31s 62ms/step - loss: 0.6284 - accuracy: 0.7817 - val_loss: 0.6015 - val_accuracy: 0.7955\n",
            "Epoch 23/75\n",
            "500/500 [==============================] - 32s 63ms/step - loss: 0.6128 - accuracy: 0.7846 - val_loss: 0.7154 - val_accuracy: 0.7641\n",
            "Epoch 24/75\n",
            "500/500 [==============================] - 31s 62ms/step - loss: 0.6109 - accuracy: 0.7863 - val_loss: 0.6671 - val_accuracy: 0.7810\n",
            "Epoch 25/75\n",
            "500/500 [==============================] - 30s 61ms/step - loss: 0.5965 - accuracy: 0.7908 - val_loss: 0.9954 - val_accuracy: 0.7157\n",
            "Epoch 26/75\n",
            "500/500 [==============================] - 31s 61ms/step - loss: 0.5880 - accuracy: 0.7955 - val_loss: 0.7917 - val_accuracy: 0.7521\n",
            "Epoch 27/75\n",
            "500/500 [==============================] - 32s 64ms/step - loss: 0.5822 - accuracy: 0.7974 - val_loss: 0.6270 - val_accuracy: 0.7895\n",
            "Epoch 28/75\n",
            "500/500 [==============================] - 31s 61ms/step - loss: 0.5719 - accuracy: 0.8002 - val_loss: 0.6987 - val_accuracy: 0.7749\n",
            "Epoch 29/75\n",
            "500/500 [==============================] - 31s 61ms/step - loss: 0.5666 - accuracy: 0.8026 - val_loss: 0.7674 - val_accuracy: 0.7607\n",
            "Epoch 30/75\n",
            "500/500 [==============================] - 32s 63ms/step - loss: 0.5622 - accuracy: 0.8047 - val_loss: 0.6219 - val_accuracy: 0.7948\n",
            "Epoch 31/75\n",
            "500/500 [==============================] - 31s 61ms/step - loss: 0.5536 - accuracy: 0.8054 - val_loss: 0.5326 - val_accuracy: 0.8202\n",
            "Epoch 32/75\n",
            "500/500 [==============================] - 30s 61ms/step - loss: 0.5494 - accuracy: 0.8072 - val_loss: 0.7557 - val_accuracy: 0.7566\n",
            "Epoch 33/75\n",
            "500/500 [==============================] - 30s 60ms/step - loss: 0.5388 - accuracy: 0.8128 - val_loss: 0.5331 - val_accuracy: 0.8224\n",
            "Epoch 34/75\n",
            "500/500 [==============================] - 31s 62ms/step - loss: 0.5422 - accuracy: 0.8110 - val_loss: 0.5373 - val_accuracy: 0.8256\n",
            "Epoch 35/75\n",
            "500/500 [==============================] - 30s 60ms/step - loss: 0.5315 - accuracy: 0.8144 - val_loss: 0.5883 - val_accuracy: 0.8085\n",
            "Epoch 36/75\n",
            "500/500 [==============================] - 30s 60ms/step - loss: 0.5213 - accuracy: 0.8192 - val_loss: 0.5817 - val_accuracy: 0.8140\n",
            "Epoch 37/75\n",
            "500/500 [==============================] - 30s 61ms/step - loss: 0.5197 - accuracy: 0.8176 - val_loss: 0.6795 - val_accuracy: 0.7843\n",
            "Epoch 38/75\n",
            "500/500 [==============================] - 31s 62ms/step - loss: 0.5165 - accuracy: 0.8206 - val_loss: 0.7637 - val_accuracy: 0.7614\n",
            "Epoch 39/75\n",
            "500/500 [==============================] - 30s 60ms/step - loss: 0.5128 - accuracy: 0.8216 - val_loss: 0.5109 - val_accuracy: 0.8303\n",
            "Epoch 40/75\n",
            "500/500 [==============================] - 30s 60ms/step - loss: 0.5071 - accuracy: 0.8240 - val_loss: 0.5164 - val_accuracy: 0.8297\n",
            "Epoch 41/75\n",
            "500/500 [==============================] - 31s 62ms/step - loss: 0.4960 - accuracy: 0.8260 - val_loss: 0.4850 - val_accuracy: 0.8368\n",
            "Epoch 42/75\n",
            "500/500 [==============================] - 30s 61ms/step - loss: 0.4906 - accuracy: 0.8292 - val_loss: 0.5510 - val_accuracy: 0.8190\n",
            "Epoch 43/75\n",
            "500/500 [==============================] - 30s 61ms/step - loss: 0.4859 - accuracy: 0.8297 - val_loss: 0.5397 - val_accuracy: 0.8265\n",
            "Epoch 44/75\n",
            "500/500 [==============================] - 30s 60ms/step - loss: 0.4883 - accuracy: 0.8289 - val_loss: 0.7916 - val_accuracy: 0.7563\n",
            "Epoch 45/75\n",
            "500/500 [==============================] - 31s 63ms/step - loss: 0.4826 - accuracy: 0.8316 - val_loss: 0.5598 - val_accuracy: 0.8139\n",
            "Epoch 46/75\n",
            "500/500 [==============================] - 30s 60ms/step - loss: 0.4720 - accuracy: 0.8360 - val_loss: 0.4525 - val_accuracy: 0.8495\n",
            "Epoch 47/75\n",
            "500/500 [==============================] - 30s 60ms/step - loss: 0.4710 - accuracy: 0.8353 - val_loss: 0.6735 - val_accuracy: 0.7918\n",
            "Epoch 48/75\n",
            "500/500 [==============================] - 30s 60ms/step - loss: 0.4730 - accuracy: 0.8348 - val_loss: 0.5952 - val_accuracy: 0.8106\n",
            "Epoch 49/75\n",
            "500/500 [==============================] - 32s 63ms/step - loss: 0.4618 - accuracy: 0.8372 - val_loss: 0.4787 - val_accuracy: 0.8449\n",
            "Epoch 50/75\n",
            "500/500 [==============================] - 30s 61ms/step - loss: 0.4597 - accuracy: 0.8387 - val_loss: 0.4995 - val_accuracy: 0.8372\n",
            "Epoch 51/75\n",
            "500/500 [==============================] - 30s 60ms/step - loss: 0.4513 - accuracy: 0.8400 - val_loss: 0.7603 - val_accuracy: 0.7601\n",
            "Epoch 52/75\n",
            "500/500 [==============================] - 31s 62ms/step - loss: 0.4567 - accuracy: 0.8402 - val_loss: 0.4882 - val_accuracy: 0.8330\n",
            "Epoch 53/75\n",
            "500/500 [==============================] - 30s 60ms/step - loss: 0.4516 - accuracy: 0.8412 - val_loss: 0.4539 - val_accuracy: 0.8483\n",
            "Epoch 54/75\n",
            "500/500 [==============================] - 30s 60ms/step - loss: 0.4459 - accuracy: 0.8455 - val_loss: 0.5053 - val_accuracy: 0.8358\n",
            "Epoch 55/75\n",
            "500/500 [==============================] - 32s 63ms/step - loss: 0.4442 - accuracy: 0.8435 - val_loss: 0.5013 - val_accuracy: 0.8355\n",
            "Epoch 56/75\n",
            "500/500 [==============================] - 31s 61ms/step - loss: 0.4393 - accuracy: 0.8455 - val_loss: 0.5473 - val_accuracy: 0.8260\n",
            "Epoch 57/75\n",
            "500/500 [==============================] - 30s 60ms/step - loss: 0.4428 - accuracy: 0.8448 - val_loss: 0.5111 - val_accuracy: 0.8328\n",
            "Epoch 58/75\n",
            "500/500 [==============================] - 30s 61ms/step - loss: 0.4306 - accuracy: 0.8488 - val_loss: 0.5749 - val_accuracy: 0.8201\n",
            "Epoch 59/75\n",
            "500/500 [==============================] - 31s 63ms/step - loss: 0.4316 - accuracy: 0.8501 - val_loss: 0.5612 - val_accuracy: 0.8272\n",
            "Epoch 60/75\n",
            "500/500 [==============================] - 31s 61ms/step - loss: 0.4234 - accuracy: 0.8527 - val_loss: 0.5220 - val_accuracy: 0.8363\n",
            "Epoch 61/75\n",
            "500/500 [==============================] - 31s 61ms/step - loss: 0.4272 - accuracy: 0.8502 - val_loss: 0.5995 - val_accuracy: 0.8116\n",
            "Epoch 62/75\n",
            "500/500 [==============================] - 31s 62ms/step - loss: 0.4192 - accuracy: 0.8535 - val_loss: 0.5084 - val_accuracy: 0.8341\n",
            "Epoch 63/75\n",
            "500/500 [==============================] - 30s 59ms/step - loss: 0.4163 - accuracy: 0.8546 - val_loss: 0.4914 - val_accuracy: 0.8415\n",
            "Epoch 64/75\n",
            "500/500 [==============================] - 31s 61ms/step - loss: 0.4106 - accuracy: 0.8563 - val_loss: 0.5020 - val_accuracy: 0.8446\n",
            "Epoch 65/75\n",
            "500/500 [==============================] - 30s 60ms/step - loss: 0.4093 - accuracy: 0.8562 - val_loss: 0.6228 - val_accuracy: 0.8091\n",
            "Epoch 66/75\n",
            "500/500 [==============================] - 31s 62ms/step - loss: 0.4069 - accuracy: 0.8597 - val_loss: 0.5121 - val_accuracy: 0.8340\n",
            "Epoch 67/75\n",
            "500/500 [==============================] - 31s 61ms/step - loss: 0.4040 - accuracy: 0.8593 - val_loss: 0.5868 - val_accuracy: 0.8124\n",
            "Epoch 68/75\n",
            "500/500 [==============================] - 30s 60ms/step - loss: 0.4054 - accuracy: 0.8604 - val_loss: 0.4882 - val_accuracy: 0.8423\n",
            "Epoch 69/75\n",
            "500/500 [==============================] - 31s 62ms/step - loss: 0.4001 - accuracy: 0.8595 - val_loss: 0.5235 - val_accuracy: 0.8310\n",
            "Epoch 70/75\n",
            "500/500 [==============================] - 30s 60ms/step - loss: 0.3946 - accuracy: 0.8617 - val_loss: 0.4853 - val_accuracy: 0.8454\n",
            "Epoch 71/75\n",
            "500/500 [==============================] - 30s 60ms/step - loss: 0.3951 - accuracy: 0.8621 - val_loss: 0.4781 - val_accuracy: 0.8459\n",
            "Epoch 72/75\n",
            "500/500 [==============================] - 31s 62ms/step - loss: 0.3884 - accuracy: 0.8635 - val_loss: 0.4068 - val_accuracy: 0.8724\n",
            "Epoch 73/75\n",
            "500/500 [==============================] - 30s 60ms/step - loss: 0.3933 - accuracy: 0.8624 - val_loss: 0.4883 - val_accuracy: 0.8410\n",
            "Epoch 74/75\n",
            "500/500 [==============================] - 30s 61ms/step - loss: 0.3838 - accuracy: 0.8650 - val_loss: 0.5356 - val_accuracy: 0.8340\n",
            "Epoch 75/75\n",
            "500/500 [==============================] - 30s 61ms/step - loss: 0.3888 - accuracy: 0.8631 - val_loss: 0.4331 - val_accuracy: 0.8609\n",
            "313/313 [==============================] - 1s 4ms/step - loss: 0.4331 - accuracy: 0.8609\n",
            "Test loss: 0.433078408241272\n",
            "Test accuracy: 0.8608999848365784\n"
          ]
        }
      ]
    },
    {
      "cell_type": "code",
      "source": [
        "import matplotlib.pyplot as plt\n",
        "\n",
        "plt.plot(history.history['accuracy'])\n",
        "plt.plot(history.history['val_accuracy'])\n",
        "plt.title('model accuracy')\n",
        "plt.ylabel('accuracy')\n",
        "plt.xlabel('epoch')\n",
        "plt.legend(['train', 'test'], loc='upper left')\n",
        "plt.show()"
      ],
      "metadata": {
        "id": "zKP4XyAK2vE6",
        "outputId": "790cc66b-d0d2-47c5-ceab-01c8bffec8ed",
        "colab": {
          "base_uri": "https://localhost:8080/",
          "height": 295
        }
      },
      "execution_count": 24,
      "outputs": [
        {
          "output_type": "display_data",
          "data": {
            "text/plain": [
              "<Figure size 432x288 with 1 Axes>"
            ],
            "image/png": "[encoded data removed]"
          },
          "metadata": {
            "needs_background": "light"
          }
        }
      ]
    }
  ]
}