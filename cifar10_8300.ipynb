{
  "nbformat": 4,
  "nbformat_minor": 0,
  "metadata": {
    "colab": {
      "provenance": [],
      "authorship_tag": "ABX9TyNIJ29zMjXPj63lylV3aAOI",
      "include_colab_link": true
    },
    "kernelspec": {
      "name": "python3",
      "display_name": "Python 3"
    },
    "language_info": {
      "name": "python"
    },
    "accelerator": "GPU",
    "gpuClass": "standard"
  },
  "cells": [
    {
      "cell_type": "markdown",
      "metadata": {
        "id": "view-in-github",
        "colab_type": "text"
      },
      "source": [
        "<a href=\"https://colab.research.google.com/github/igrodfer/DeepLearningLab/blob/main/cifar10_8300.ipynb\" target=\"_parent\"><img src=\"https://colab.research.google.com/assets/colab-badge.svg\" alt=\"Open In Colab\"/></a>"
      ]
    },
    {
      "cell_type": "code",
      "execution_count": 11,
      "metadata": {
        "colab": {
          "base_uri": "https://localhost:8080/"
        },
        "id": "LL8RpCWynTVK",
        "outputId": "6267b47c-d4b2-406d-d12c-b6ca7b11fc3a"
      },
      "outputs": [
        {
          "output_type": "stream",
          "name": "stdout",
          "text": [
            "The autoreload extension is already loaded. To reload it, use:\n",
            "  %reload_ext autoreload\n"
          ]
        }
      ],
      "source": [
        "from __future__ import print_function\n",
        "%load_ext autoreload\n",
        "%autoreload 2\n",
        "import keras\n",
        "from keras.datasets import cifar10\n",
        "from keras.models import Sequential\n",
        "from keras.layers import Dense, Dropout, Activation, Flatten\n",
        "from keras.layers import Conv2D, MaxPooling2D\n",
        "from keras.layers import BatchNormalization as BN\n",
        "from keras.layers import GaussianNoise as GN\n",
        "from tensorflow.keras.optimizers import SGD\n",
        "from keras.utils import np_utils\n",
        "\n",
        "from keras.callbacks import LearningRateScheduler as LRS\n",
        "from keras.preprocessing.image import ImageDataGenerator"
      ]
    },
    {
      "cell_type": "code",
      "source": [
        "batch_size = 100\n",
        "num_classes = 10\n",
        "epochs = 75"
      ],
      "metadata": {
        "id": "Oq2MYhwDoGJD"
      },
      "execution_count": 3,
      "outputs": []
    },
    {
      "cell_type": "code",
      "source": [
        "(x_train, y_train), (x_test, y_test) = cifar10.load_data()\n",
        "\n",
        "x_train = x_train.astype('float32')\n",
        "x_test = x_test.astype('float32')\n",
        "\n",
        "x_train /= 255\n",
        "x_test /= 255\n",
        "\n",
        "print(x_train.shape)\n",
        "print(x_test.shape)\n",
        "\n",
        "y_train = keras.utils.np_utils.to_categorical(y_train, num_classes)\n",
        "y_test = keras.utils.np_utils.to_categorical(y_test, num_classes)"
      ],
      "metadata": {
        "colab": {
          "base_uri": "https://localhost:8080/"
        },
        "id": "2wjnofxzoJIr",
        "outputId": "7ec93f8c-364f-45b6-fea4-7ec9c9f5a559"
      },
      "execution_count": 4,
      "outputs": [
        {
          "output_type": "stream",
          "name": "stdout",
          "text": [
            "Downloading data from https://www.cs.toronto.edu/~kriz/cifar-10-python.tar.gz\n",
            "170498071/170498071 [==============================] - 13s 0us/step\n",
            "(50000, 32, 32, 3)\n",
            "(10000, 32, 32, 3)\n"
          ]
        }
      ]
    },
    {
      "cell_type": "code",
      "source": [
        "## DEF A BLOCK CONV + BN + GN + MAXPOOL\n",
        "def CBGN(model,filters,ishape=0):\n",
        "  if (ishape!=0):\n",
        "    model.add(Conv2D(filters, (3, 3), padding='same',\n",
        "                 input_shape=ishape))\n",
        "  else:\n",
        "    model.add(Conv2D(filters, (3, 3), padding='same'))\n",
        "  \n",
        "  model.add(BN())\n",
        "  model.add(GN(0.3))\n",
        "  model.add(Activation('relu'))\n",
        "  model.add(MaxPooling2D(pool_size=(2, 2)))\n",
        "  \n",
        "  \n",
        "  return model"
      ],
      "metadata": {
        "id": "ha3je-uloL3h"
      },
      "execution_count": 5,
      "outputs": []
    },
    {
      "cell_type": "code",
      "source": [
        "datagen = ImageDataGenerator(\n",
        "    width_shift_range=0.2,\n",
        "    height_shift_range=0.2,\n",
        "    horizontal_flip=True,\n",
        "    rotation_range=10)"
      ],
      "metadata": {
        "id": "C7kOugbErnAI"
      },
      "execution_count": 17,
      "outputs": []
    },
    {
      "cell_type": "code",
      "source": [
        "## DEF NN TOPOLOGY  \n",
        "model = Sequential()\n",
        "\n",
        "model=CBGN(model,32,x_train.shape[1:])\n",
        "model=CBGN(model,64)\n",
        "model=CBGN(model,128)\n",
        "model=CBGN(model,256)\n",
        "model=CBGN(model,512)\n",
        "\n",
        "model.add(Flatten())\n",
        "model.add(Dense(512))\n",
        "model.add(Activation('relu'))\n",
        "\n",
        "model.add(Dense(num_classes))\n",
        "model.add(Activation('softmax'))"
      ],
      "metadata": {
        "id": "P3qhppDXoPtb"
      },
      "execution_count": 30,
      "outputs": []
    },
    {
      "cell_type": "code",
      "source": [
        "model.summary()"
      ],
      "metadata": {
        "id": "e_dXrEe3oQ6R"
      },
      "execution_count": null,
      "outputs": []
    },
    {
      "cell_type": "code",
      "source": [
        "## OPTIM AND COMPILE\n",
        "opt = SGD(learning_rate=0.1, decay=1e-6)\n",
        "\n",
        "model.compile(loss='categorical_crossentropy',\n",
        "              optimizer=opt,\n",
        "              metrics=['accuracy'])"
      ],
      "metadata": {
        "id": "XcSgQPZFoT-W"
      },
      "execution_count": 31,
      "outputs": []
    },
    {
      "cell_type": "code",
      "source": [],
      "metadata": {
        "id": "3IleqFxlEwVs"
      },
      "execution_count": null,
      "outputs": []
    },
    {
      "cell_type": "code",
      "source": [
        "history=model.fit(datagen.flow(x_train, y_train,batch_size=batch_size),\n",
        "                            steps_per_epoch=len(x_train) / batch_size, \n",
        "                            epochs=epochs,\n",
        "                            validation_data=(x_test, y_test),\n",
        "                            verbose=1)\n",
        "\n",
        "## TEST\n",
        "scores = model.evaluate(x_test, y_test, verbose=1)\n",
        "print('Test loss:', scores[0])\n",
        "print('Test accuracy:', scores[1])"
      ],
      "metadata": {
        "colab": {
          "base_uri": "https://localhost:8080/"
        },
        "id": "ZfDZSRL-odRs",
        "outputId": "a1c56e43-edfd-4651-8768-5eb673907f35"
      },
      "execution_count": 32,
      "outputs": [
        {
          "output_type": "stream",
          "name": "stdout",
          "text": [
            "Epoch 1/75\n",
            "500/500 [==============================] - 32s 61ms/step - loss: 1.7447 - accuracy: 0.3698 - val_loss: 1.6890 - val_accuracy: 0.4182\n",
            "Epoch 2/75\n",
            "500/500 [==============================] - 30s 60ms/step - loss: 1.3901 - accuracy: 0.4909 - val_loss: 1.4060 - val_accuracy: 0.5211\n",
            "Epoch 3/75\n",
            "500/500 [==============================] - 29s 59ms/step - loss: 1.2276 - accuracy: 0.5566 - val_loss: 1.1945 - val_accuracy: 0.5782\n",
            "Epoch 4/75\n",
            "500/500 [==============================] - 29s 59ms/step - loss: 1.1263 - accuracy: 0.5963 - val_loss: 1.7805 - val_accuracy: 0.4847\n",
            "Epoch 5/75\n",
            "500/500 [==============================] - 30s 60ms/step - loss: 1.0432 - accuracy: 0.6265 - val_loss: 1.3166 - val_accuracy: 0.5541\n",
            "Epoch 6/75\n",
            "500/500 [==============================] - 29s 58ms/step - loss: 0.9800 - accuracy: 0.6504 - val_loss: 1.1346 - val_accuracy: 0.6218\n",
            "Epoch 7/75\n",
            "500/500 [==============================] - 29s 59ms/step - loss: 0.9302 - accuracy: 0.6706 - val_loss: 1.2548 - val_accuracy: 0.6146\n",
            "Epoch 8/75\n",
            "500/500 [==============================] - 30s 59ms/step - loss: 0.8879 - accuracy: 0.6859 - val_loss: 1.2072 - val_accuracy: 0.6187\n",
            "Epoch 9/75\n",
            "500/500 [==============================] - 31s 61ms/step - loss: 0.8510 - accuracy: 0.6970 - val_loss: 1.5531 - val_accuracy: 0.5725\n",
            "Epoch 10/75\n",
            "500/500 [==============================] - 30s 59ms/step - loss: 0.8208 - accuracy: 0.7101 - val_loss: 0.8461 - val_accuracy: 0.7188\n",
            "Epoch 11/75\n",
            "500/500 [==============================] - 29s 59ms/step - loss: 0.7905 - accuracy: 0.7227 - val_loss: 1.0321 - val_accuracy: 0.6818\n",
            "Epoch 12/75\n",
            "500/500 [==============================] - 29s 58ms/step - loss: 0.7651 - accuracy: 0.7293 - val_loss: 1.3317 - val_accuracy: 0.6217\n",
            "Epoch 13/75\n",
            "500/500 [==============================] - 30s 60ms/step - loss: 0.7490 - accuracy: 0.7375 - val_loss: 0.9229 - val_accuracy: 0.7058\n",
            "Epoch 14/75\n",
            "500/500 [==============================] - 29s 59ms/step - loss: 0.7233 - accuracy: 0.7458 - val_loss: 0.8415 - val_accuracy: 0.7215\n",
            "Epoch 15/75\n",
            "500/500 [==============================] - 30s 59ms/step - loss: 0.7075 - accuracy: 0.7519 - val_loss: 0.9075 - val_accuracy: 0.7180\n",
            "Epoch 16/75\n",
            "500/500 [==============================] - 30s 59ms/step - loss: 0.6868 - accuracy: 0.7587 - val_loss: 0.7842 - val_accuracy: 0.7399\n",
            "Epoch 17/75\n",
            "500/500 [==============================] - 30s 60ms/step - loss: 0.6740 - accuracy: 0.7631 - val_loss: 0.6315 - val_accuracy: 0.7881\n",
            "Epoch 18/75\n",
            "500/500 [==============================] - 30s 59ms/step - loss: 0.6567 - accuracy: 0.7695 - val_loss: 0.9745 - val_accuracy: 0.6962\n",
            "Epoch 19/75\n",
            "500/500 [==============================] - 30s 59ms/step - loss: 0.6475 - accuracy: 0.7743 - val_loss: 0.9200 - val_accuracy: 0.7184\n",
            "Epoch 20/75\n",
            "500/500 [==============================] - 29s 59ms/step - loss: 0.6324 - accuracy: 0.7810 - val_loss: 0.7832 - val_accuracy: 0.7504\n",
            "Epoch 21/75\n",
            "500/500 [==============================] - 30s 59ms/step - loss: 0.6198 - accuracy: 0.7826 - val_loss: 0.9959 - val_accuracy: 0.6947\n",
            "Epoch 22/75\n",
            "500/500 [==============================] - 31s 62ms/step - loss: 0.6074 - accuracy: 0.7874 - val_loss: 0.7702 - val_accuracy: 0.7546\n",
            "Epoch 23/75\n",
            "500/500 [==============================] - 30s 60ms/step - loss: 0.5980 - accuracy: 0.7908 - val_loss: 1.1405 - val_accuracy: 0.6798\n",
            "Epoch 24/75\n",
            "500/500 [==============================] - 31s 61ms/step - loss: 0.5896 - accuracy: 0.7951 - val_loss: 0.8824 - val_accuracy: 0.7381\n",
            "Epoch 25/75\n",
            "500/500 [==============================] - 31s 62ms/step - loss: 0.5737 - accuracy: 0.7977 - val_loss: 0.7676 - val_accuracy: 0.7625\n",
            "Epoch 26/75\n",
            "500/500 [==============================] - 32s 63ms/step - loss: 0.5667 - accuracy: 0.8024 - val_loss: 0.6524 - val_accuracy: 0.7882\n",
            "Epoch 27/75\n",
            "500/500 [==============================] - 31s 61ms/step - loss: 0.5649 - accuracy: 0.8003 - val_loss: 0.5488 - val_accuracy: 0.8212\n",
            "Epoch 28/75\n",
            "500/500 [==============================] - 31s 61ms/step - loss: 0.5494 - accuracy: 0.8080 - val_loss: 0.7932 - val_accuracy: 0.7505\n",
            "Epoch 29/75\n",
            "500/500 [==============================] - 30s 61ms/step - loss: 0.5425 - accuracy: 0.8097 - val_loss: 0.6037 - val_accuracy: 0.8058\n",
            "Epoch 30/75\n",
            "500/500 [==============================] - 31s 63ms/step - loss: 0.5317 - accuracy: 0.8148 - val_loss: 0.7833 - val_accuracy: 0.7620\n",
            "Epoch 31/75\n",
            "500/500 [==============================] - 30s 60ms/step - loss: 0.5304 - accuracy: 0.8155 - val_loss: 0.6535 - val_accuracy: 0.7887\n",
            "Epoch 32/75\n",
            "500/500 [==============================] - 30s 60ms/step - loss: 0.5219 - accuracy: 0.8164 - val_loss: 0.6359 - val_accuracy: 0.8051\n",
            "Epoch 33/75\n",
            "500/500 [==============================] - 30s 60ms/step - loss: 0.5164 - accuracy: 0.8210 - val_loss: 0.5731 - val_accuracy: 0.8077\n",
            "Epoch 34/75\n",
            "500/500 [==============================] - 31s 62ms/step - loss: 0.5073 - accuracy: 0.8221 - val_loss: 0.7176 - val_accuracy: 0.7694\n",
            "Epoch 35/75\n",
            "500/500 [==============================] - 30s 60ms/step - loss: 0.4955 - accuracy: 0.8255 - val_loss: 0.6345 - val_accuracy: 0.8008\n",
            "Epoch 36/75\n",
            "500/500 [==============================] - 30s 60ms/step - loss: 0.4876 - accuracy: 0.8302 - val_loss: 0.8407 - val_accuracy: 0.7559\n",
            "Epoch 37/75\n",
            "500/500 [==============================] - 30s 60ms/step - loss: 0.4904 - accuracy: 0.8283 - val_loss: 0.8217 - val_accuracy: 0.7653\n",
            "Epoch 38/75\n",
            "500/500 [==============================] - 31s 61ms/step - loss: 0.4813 - accuracy: 0.8319 - val_loss: 0.5333 - val_accuracy: 0.8296\n",
            "Epoch 39/75\n",
            "500/500 [==============================] - 29s 59ms/step - loss: 0.4681 - accuracy: 0.8358 - val_loss: 0.7423 - val_accuracy: 0.7771\n",
            "Epoch 40/75\n",
            "500/500 [==============================] - 30s 60ms/step - loss: 0.4697 - accuracy: 0.8349 - val_loss: 0.8001 - val_accuracy: 0.7685\n",
            "Epoch 41/75\n",
            "500/500 [==============================] - 29s 59ms/step - loss: 0.4625 - accuracy: 0.8364 - val_loss: 0.5488 - val_accuracy: 0.8267\n",
            "Epoch 42/75\n",
            "500/500 [==============================] - 31s 61ms/step - loss: 0.4619 - accuracy: 0.8372 - val_loss: 0.5964 - val_accuracy: 0.8090\n",
            "Epoch 43/75\n",
            "500/500 [==============================] - 29s 59ms/step - loss: 0.4521 - accuracy: 0.8411 - val_loss: 0.5857 - val_accuracy: 0.8216\n",
            "Epoch 44/75\n",
            "500/500 [==============================] - 30s 59ms/step - loss: 0.4482 - accuracy: 0.8424 - val_loss: 0.7817 - val_accuracy: 0.7781\n",
            "Epoch 45/75\n",
            "500/500 [==============================] - 29s 59ms/step - loss: 0.4441 - accuracy: 0.8448 - val_loss: 0.5888 - val_accuracy: 0.8164\n",
            "Epoch 46/75\n",
            "500/500 [==============================] - 31s 61ms/step - loss: 0.4363 - accuracy: 0.8474 - val_loss: 0.6303 - val_accuracy: 0.8081\n",
            "Epoch 47/75\n",
            "500/500 [==============================] - 29s 59ms/step - loss: 0.4364 - accuracy: 0.8461 - val_loss: 0.5639 - val_accuracy: 0.8237\n",
            "Epoch 48/75\n",
            "500/500 [==============================] - 30s 59ms/step - loss: 0.4323 - accuracy: 0.8487 - val_loss: 0.6135 - val_accuracy: 0.8152\n",
            "Epoch 49/75\n",
            "500/500 [==============================] - 29s 59ms/step - loss: 0.4271 - accuracy: 0.8499 - val_loss: 0.5326 - val_accuracy: 0.8309\n",
            "Epoch 50/75\n",
            "500/500 [==============================] - 30s 59ms/step - loss: 0.4194 - accuracy: 0.8542 - val_loss: 0.7400 - val_accuracy: 0.7811\n",
            "Epoch 51/75\n",
            "500/500 [==============================] - 31s 61ms/step - loss: 0.4227 - accuracy: 0.8519 - val_loss: 0.5065 - val_accuracy: 0.8375\n",
            "Epoch 52/75\n",
            "500/500 [==============================] - 29s 59ms/step - loss: 0.4120 - accuracy: 0.8538 - val_loss: 0.7626 - val_accuracy: 0.7620\n",
            "Epoch 53/75\n",
            "500/500 [==============================] - 29s 59ms/step - loss: 0.4071 - accuracy: 0.8574 - val_loss: 0.8211 - val_accuracy: 0.7699\n",
            "Epoch 54/75\n",
            "500/500 [==============================] - 30s 60ms/step - loss: 0.4048 - accuracy: 0.8565 - val_loss: 0.9740 - val_accuracy: 0.7386\n",
            "Epoch 55/75\n",
            "500/500 [==============================] - 30s 61ms/step - loss: 0.3987 - accuracy: 0.8593 - val_loss: 0.5282 - val_accuracy: 0.8346\n",
            "Epoch 56/75\n",
            "500/500 [==============================] - 30s 59ms/step - loss: 0.3958 - accuracy: 0.8612 - val_loss: 0.6151 - val_accuracy: 0.8173\n",
            "Epoch 57/75\n",
            "500/500 [==============================] - 29s 59ms/step - loss: 0.3942 - accuracy: 0.8605 - val_loss: 0.6776 - val_accuracy: 0.8012\n",
            "Epoch 58/75\n",
            "500/500 [==============================] - 30s 59ms/step - loss: 0.3885 - accuracy: 0.8629 - val_loss: 0.5663 - val_accuracy: 0.8284\n",
            "Epoch 59/75\n",
            "500/500 [==============================] - 31s 61ms/step - loss: 0.3835 - accuracy: 0.8662 - val_loss: 0.6669 - val_accuracy: 0.8024\n",
            "Epoch 60/75\n",
            "500/500 [==============================] - 30s 59ms/step - loss: 0.3811 - accuracy: 0.8666 - val_loss: 0.5694 - val_accuracy: 0.8223\n",
            "Epoch 61/75\n",
            "500/500 [==============================] - 29s 59ms/step - loss: 0.3778 - accuracy: 0.8660 - val_loss: 0.6659 - val_accuracy: 0.8097\n",
            "Epoch 62/75\n",
            "500/500 [==============================] - 30s 59ms/step - loss: 0.3706 - accuracy: 0.8708 - val_loss: 0.5501 - val_accuracy: 0.8306\n",
            "Epoch 63/75\n",
            "500/500 [==============================] - 30s 61ms/step - loss: 0.3688 - accuracy: 0.8705 - val_loss: 0.5624 - val_accuracy: 0.8349\n",
            "Epoch 64/75\n",
            "500/500 [==============================] - 29s 59ms/step - loss: 0.3659 - accuracy: 0.8703 - val_loss: 0.7258 - val_accuracy: 0.7876\n",
            "Epoch 65/75\n",
            "500/500 [==============================] - 29s 59ms/step - loss: 0.3600 - accuracy: 0.8727 - val_loss: 0.7015 - val_accuracy: 0.8016\n",
            "Epoch 66/75\n",
            "500/500 [==============================] - 29s 59ms/step - loss: 0.3615 - accuracy: 0.8710 - val_loss: 0.5298 - val_accuracy: 0.8421\n",
            "Epoch 67/75\n",
            "500/500 [==============================] - 30s 60ms/step - loss: 0.3566 - accuracy: 0.8735 - val_loss: 0.5261 - val_accuracy: 0.8374\n",
            "Epoch 68/75\n",
            "500/500 [==============================] - 30s 61ms/step - loss: 0.3528 - accuracy: 0.8766 - val_loss: 0.5840 - val_accuracy: 0.8239\n",
            "Epoch 69/75\n",
            "500/500 [==============================] - 29s 59ms/step - loss: 0.3518 - accuracy: 0.8760 - val_loss: 0.8009 - val_accuracy: 0.7740\n",
            "Epoch 70/75\n",
            "500/500 [==============================] - 30s 59ms/step - loss: 0.3504 - accuracy: 0.8761 - val_loss: 0.5502 - val_accuracy: 0.8335\n",
            "Epoch 71/75\n",
            "500/500 [==============================] - 30s 60ms/step - loss: 0.3430 - accuracy: 0.8797 - val_loss: 0.5459 - val_accuracy: 0.8347\n",
            "Epoch 72/75\n",
            "500/500 [==============================] - 31s 61ms/step - loss: 0.3378 - accuracy: 0.8812 - val_loss: 0.5640 - val_accuracy: 0.8360\n",
            "Epoch 73/75\n",
            "500/500 [==============================] - 30s 59ms/step - loss: 0.3376 - accuracy: 0.8793 - val_loss: 0.6356 - val_accuracy: 0.8202\n",
            "Epoch 74/75\n",
            "500/500 [==============================] - 30s 60ms/step - loss: 0.3359 - accuracy: 0.8814 - val_loss: 0.4993 - val_accuracy: 0.8476\n",
            "Epoch 75/75\n",
            "500/500 [==============================] - 31s 62ms/step - loss: 0.3322 - accuracy: 0.8810 - val_loss: 0.5427 - val_accuracy: 0.8386\n",
            "313/313 [==============================] - 1s 4ms/step - loss: 0.5427 - accuracy: 0.8386\n",
            "Test loss: 0.54273521900177\n",
            "Test accuracy: 0.8385999798774719\n"
          ]
        }
      ]
    }
  ]
}